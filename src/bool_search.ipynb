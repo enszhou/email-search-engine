{
 "metadata": {
  "language_info": {
   "codemirror_mode": {
    "name": "ipython",
    "version": 3
   },
   "file_extension": ".py",
   "mimetype": "text/x-python",
   "name": "python",
   "nbconvert_exporter": "python",
   "pygments_lexer": "ipython3",
   "version": "3.8.3-final"
  },
  "orig_nbformat": 2,
  "kernelspec": {
   "name": "python3",
   "display_name": "Python 3"
  }
 },
 "nbformat": 4,
 "nbformat_minor": 2,
 "cells": [
  {
   "cell_type": "code",
   "execution_count": 1,
   "metadata": {},
   "outputs": [],
   "source": [
    "import os"
   ]
  },
  {
   "cell_type": "code",
   "execution_count": 48,
   "metadata": {
    "tags": []
   },
   "outputs": [],
   "source": [
    "# generate the mapping file between mail ids and paths\n",
    "dataset_path = \"../dataset\"\n",
    "f_id_path_map = open(\"../output/id_path_map.txt\",\"w+\")\n",
    "num_files = 0\n",
    "for root, dirs, files in os.walk(dataset_path, topdown=False):\n",
    "    for f in files:\n",
    "        f_id_path_map.write(str(num_files)+' '+root.replace(dataset_path, \"\")[1:] + '\\\\'+f+'\\n')\n",
    "        num_files += 1\n",
    "f_id_path_map.close()"
   ]
  },
  {
   "cell_type": "code",
   "execution_count": null,
   "metadata": {},
   "outputs": [],
   "source": []
  }
 ]
}