{
 "metadata": {
  "language_info": {
   "codemirror_mode": {
    "name": "ipython",
    "version": 3
   },
   "file_extension": ".py",
   "mimetype": "text/x-python",
   "name": "python",
   "nbconvert_exporter": "python",
   "pygments_lexer": "ipython3",
   "version": "3.9.0-final"
  },
  "orig_nbformat": 2,
  "kernelspec": {
   "name": "python3",
   "display_name": "Python 3.9.0 64-bit",
   "metadata": {
    "interpreter": {
     "hash": "dd8909e800e94bf04c8fda69fdf8d84b95ba4a77e84d966b2a1e109c79a1a0ec"
    }
   }
  }
 },
 "nbformat": 4,
 "nbformat_minor": 2,
 "cells": [
  {
   "cell_type": "code",
   "execution_count": 45,
   "metadata": {},
   "outputs": [],
   "source": [
    "import yaml\n",
    "import re\n",
    "import nltk\n",
    "\n",
    "class Token(object):\n",
    "    def __init__(self, word):\n",
    "        stemmer = nltk.stem.SnowballStemmer(\"english\")\n",
    "        self.token = stemmer.stem(word)\n",
    "    \n",
    "    @staticmethod\n",
    "    def op_and(op1,op2):\n",
    "        pass\n",
    "\n",
    "    @staticmethod\n",
    "    def op_or(op1,op2):\n",
    "        pass\n",
    "\n",
    "    @staticmethod\n",
    "    def op_not(op):\n",
    "        pass\n",
    "\n",
    "    oprators_level = {')':0,'|':1,'&':2,'!':3,'(':4}\n",
    "    operator_func = {'&': op_and.__func__, '|': op_or.__func__, '!': op_not.__func__}\n",
    "        "
   ]
  },
  {
   "cell_type": "code",
   "execution_count": 27,
   "metadata": {},
   "outputs": [],
   "source": [
    "origin_query_str = \"A       And    B    And ( not C or  D aNd(e oR F))\"\n",
    "query_str = origin_query_str.lower().replace(\"(\",\" ( \").replace(\")\",\" ) \").replace(\"and\",'&').replace(\"or\",'|').replace(\"not\",'!')\n",
    "query_exp = query_str.split()"
   ]
  },
  {
   "cell_type": "code",
   "execution_count": 47,
   "metadata": {},
   "outputs": [
    {
     "output_type": "error",
     "ename": "IndexError",
     "evalue": "list index out of range",
     "traceback": [
      "\u001b[1;31m---------------------------------------------------------------------------\u001b[0m",
      "\u001b[1;31mIndexError\u001b[0m                                Traceback (most recent call last)",
      "\u001b[1;32m<ipython-input-47-293f381a5b5a>\u001b[0m in \u001b[0;36m<module>\u001b[1;34m\u001b[0m\n\u001b[0;32m      3\u001b[0m \u001b[1;32mfor\u001b[0m \u001b[0melement\u001b[0m \u001b[1;32min\u001b[0m \u001b[0mquery_exp\u001b[0m\u001b[1;33m:\u001b[0m\u001b[1;33m\u001b[0m\u001b[1;33m\u001b[0m\u001b[0m\n\u001b[0;32m      4\u001b[0m     \u001b[1;32mif\u001b[0m \u001b[0melement\u001b[0m \u001b[1;32min\u001b[0m \u001b[0mToken\u001b[0m\u001b[1;33m.\u001b[0m\u001b[0moprators_level\u001b[0m\u001b[1;33m:\u001b[0m\u001b[1;33m\u001b[0m\u001b[1;33m\u001b[0m\u001b[0m\n\u001b[1;32m----> 5\u001b[1;33m         \u001b[0mtop\u001b[0m \u001b[1;33m=\u001b[0m \u001b[0moprator_stack\u001b[0m\u001b[1;33m[\u001b[0m\u001b[1;33m-\u001b[0m\u001b[1;36m1\u001b[0m\u001b[1;33m]\u001b[0m\u001b[1;33m\u001b[0m\u001b[1;33m\u001b[0m\u001b[0m\n\u001b[0m\u001b[0;32m      6\u001b[0m         \u001b[1;32mif\u001b[0m \u001b[0melement\u001b[0m \u001b[1;33m==\u001b[0m \u001b[1;34m'('\u001b[0m \u001b[1;32mor\u001b[0m \u001b[0mToken\u001b[0m\u001b[1;33m.\u001b[0m\u001b[0moprators_level\u001b[0m\u001b[1;33m[\u001b[0m\u001b[0melement\u001b[0m\u001b[1;33m]\u001b[0m \u001b[1;33m>\u001b[0m \u001b[0mToken\u001b[0m\u001b[1;33m.\u001b[0m\u001b[0moprators_level\u001b[0m\u001b[1;33m[\u001b[0m\u001b[0mtop\u001b[0m\u001b[1;33m]\u001b[0m\u001b[1;33m:\u001b[0m\u001b[1;33m\u001b[0m\u001b[1;33m\u001b[0m\u001b[0m\n\u001b[0;32m      7\u001b[0m             \u001b[0moprator_stack\u001b[0m\u001b[1;33m.\u001b[0m\u001b[0mappend\u001b[0m\u001b[1;33m(\u001b[0m\u001b[0melement\u001b[0m\u001b[1;33m)\u001b[0m\u001b[1;33m\u001b[0m\u001b[1;33m\u001b[0m\u001b[0m\n",
      "\u001b[1;31mIndexError\u001b[0m: list index out of range"
     ]
    }
   ],
   "source": [
    "oprand_stack = list()\n",
    "oprator_stack = list()\n",
    "for element in query_exp:\n",
    "    if element in Token.oprators_level:\n",
    "        top = oprator_stack[-1]\n",
    "        if element == '(' or Token.oprators_level[element] > Token.oprators_level[top]:\n",
    "            oprator_stack.append(element)\n",
    "        elif element == ')':\n",
    "            while True:\n",
    "                oprator = oprator_stack.pop()\n",
    "                if oprator == '(':\n",
    "                    break\n",
    "                elif oprator == '!':\n",
    "                    oprand = oprand_stack.pop()\n",
    "                    result = Token.oprator_func[oprator](oprand)\n",
    "                else:\n",
    "                    oprand1 = oprand_stack.pop()\n",
    "                    oprand2 = oprand_stack.pop()\n",
    "                    result = Token.oprator_func[oprator](oprand1,oprand2)\n",
    "                oprand_stack.append(result)\n",
    "        else:\n",
    "            while True:\n",
    "                oprator = oprator_stack.pop()\n",
    "                if Token.oprators_level[element] >Token. oprators_level[oprator] or oprator == '(':\n",
    "                    oprator_stack.append(oprator)\n",
    "                    oprator_stack.append(element)\n",
    "                    break\n",
    "                elif oprator == '!':\n",
    "                    oprand = oprand_stack.pop()\n",
    "                    result = Token.oprator_func[oprator](oprand)\n",
    "                else:\n",
    "                    oprand1 = oprand_stack.pop()\n",
    "                    oprand2 = oprand_stack.pop()\n",
    "                    result = Token.oprator_func[oprator](oprand1,oprand2)\n",
    "                oprand_stack.append(result)\n",
    "    else:\n",
    "        oprand = Token(element)\n",
    "        oprand_stack.append(oprand)"
   ]
  }
 ]
}